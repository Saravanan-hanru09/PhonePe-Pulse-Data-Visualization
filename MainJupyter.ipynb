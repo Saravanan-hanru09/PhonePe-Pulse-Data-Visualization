{
 "cells": [
  {
   "cell_type": "markdown",
   "metadata": {},
   "source": [
    "### PACKAGES"
   ]
  },
  {
   "cell_type": "code",
   "execution_count": null,
   "metadata": {},
   "outputs": [],
   "source": [
    "import pandas as pd\n",
    "import mysql.connector as sql\n",
    "import plotly.express as px\n",
    "import plotly.graph_objects as go\n",
    "import streamlit as st\n",
    "from streamlit_option_menu import option_menu\n",
    "import requests\n",
    "import json"
   ]
  },
  {
   "cell_type": "markdown",
   "metadata": {},
   "source": [
    "### SQL CONNECTION"
   ]
  },
  {
   "cell_type": "code",
   "execution_count": null,
   "metadata": {},
   "outputs": [],
   "source": [
    "mydb = sql.connect(host=\"localhost\",\n",
    "                   user=\"root\",\n",
    "                   password=\"#Saravanan27\",\n",
    "                   database= \"phonepe_data\"\n",
    "                  )\n",
    "mycursor = mydb.cursor(buffered=True)"
   ]
  },
  {
   "cell_type": "markdown",
   "metadata": {},
   "source": [
    "### SQL QUERY FROM DATABASE TO DF (TABLES)"
   ]
  },
  {
   "cell_type": "code",
   "execution_count": null,
   "metadata": {},
   "outputs": [],
   "source": [
    "# Aggregated_Insurance\n",
    "\n",
    "mycursor.execute(\"select * from aggr_insurance;\")\n",
    "mydb.commit()\n",
    "table7 = mycursor.fetchall()\n",
    "Aggre_Insurance = pd.DataFrame(table7,columns = (\"State\", \"Year\", \"Quarter\", \"Transaction_Type\", \"Transaction_Count\", \"Transaction_Amount\"))\n",
    "\n",
    "#Aggregated_transaction\n",
    "mycursor.execute(\"select * from aggr_Transaction;\")\n",
    "mydb.commit()\n",
    "table1 = mycursor.fetchall()\n",
    "Aggre_transaction = pd.DataFrame(table1,columns = (\"State\", \"Year\", \"Quarter\", \"Transaction_Type\", \"Transaction_Count\", \"Transaction_Amount\"))\n",
    "\n",
    "#Aggregated_user\n",
    "mycursor.execute(\"select * from aggr_user;\")\n",
    "mydb.commit()\n",
    "table2 = mycursor.fetchall()\n",
    "Aggre_user = pd.DataFrame(table2,columns = (\"States\", \"Year\", \"Quarter\", \"Brands\", \"Transaction_Count\", \"Percentage\"))\n",
    "\n",
    "#Map_transaction\n",
    "mycursor.execute(\"select * from map_transaction;\")\n",
    "mydb.commit()\n",
    "table3 = mycursor.fetchall()\n",
    "Map_transaction = pd.DataFrame(table3,columns = (\"State\", \"Year\", \"Quarter\", \"District\", \"Transaction_Count\", \"Transaction_Amount\"))\n",
    "\n",
    "#Map_Insurance\n",
    "mycursor.execute(\"select * from map_insurance;\")\n",
    "mydb.commit()\n",
    "table8 = mycursor.fetchall()\n",
    "map_Insurance = pd.DataFrame(table8,columns = (\"State\", \"Year\", \"Quarter\", \"District\", \"Transaction_Count\", \"Transaction_Amount\"))\n",
    "\n",
    "#Map_user\n",
    "mycursor.execute(\"select * from map_user;\")\n",
    "mydb.commit()\n",
    "table4 = mycursor.fetchall()\n",
    "Map_user = pd.DataFrame(table4,columns = (\"State\", \"Year\", \"Quarter\", \"District\", \"RegisteredUser\", \"AppOpens\"))\n",
    "\n",
    "#Top_transaction\n",
    "mycursor.execute(\"select * from top_transaction;\")\n",
    "mydb.commit()\n",
    "table5 = mycursor.fetchall()\n",
    "Top_transaction = pd.DataFrame(table5,columns = (\"State\", \"Year\", \"Quarter\", \"Pincode\", \"Transaction_Count\", \"Transaction_Amount\"))\n",
    "\n",
    "#Top_user\n",
    "mycursor.execute(\"select * from top_user;\")\n",
    "mydb.commit()\n",
    "table6 = mycursor.fetchall()\n",
    "Top_user = pd.DataFrame(table6, columns = (\"State\", \"Year\", \"Quarter\", \"Pincode\", \"RegisteredUser\"))\n",
    "\n",
    "#Top_Insurance\n",
    "mycursor.execute(\"select * from top_insurance;\")\n",
    "mydb.commit()\n",
    "table9 = mycursor.fetchall()\n",
    "Top_Insurance = pd.DataFrame(table9,columns = (\"State\", \"Year\", \"Quarter\", \"Pincode\", \"Transaction_Count\", \"Transaction_Amount\"))"
   ]
  },
  {
   "cell_type": "code",
   "execution_count": null,
   "metadata": {},
   "outputs": [],
   "source": [
    "Aggre_Insurance"
   ]
  },
  {
   "cell_type": "code",
   "execution_count": null,
   "metadata": {},
   "outputs": [],
   "source": [
    "a = Aggre_Insurance[Aggre_Insurance['Year'] == 2021]\n",
    "a.reset_index(drop= True,inplace= True)\n",
    "\n",
    "b =a.groupby(\"State\")[\"Transaction_Amount\"]"
   ]
  },
  {
   "cell_type": "markdown",
   "metadata": {},
   "source": [
    "### DATAFRAMES"
   ]
  },
  {
   "cell_type": "code",
   "execution_count": null,
   "metadata": {},
   "outputs": [],
   "source": [
    "#Transaction_Year_Based\n",
    "def Transition_Amount_Count_Year(df,year):\n",
    "    trans_amt_count_year = df[df['Year'] == year]\n",
    "    trans_amt_count_year.reset_index(drop= True,inplace= True)\n",
    "\n",
    "    trans_amt_count_year_groupBy = trans_amt_count_year.groupby(\"State\")[[\"Transaction_Count\",\"Transaction_Amount\"]].sum()\n",
    "    trans_amt_count_year_groupBy.reset_index(inplace= True)\n",
    "\n",
    "    fig_Ins_Amt = px.bar(trans_amt_count_year_groupBy,x=\"State\",y=\"Transaction_Amount\",title= f\"{year} TRANSACTION AMOUNT\",width=600,height=650,color_discrete_sequence=px.colors.sequential.Aggrnyl)\n",
    "    fig_Ins_Amt.show()\n",
    "    st.plotly_chart(fig_Ins_Amt)\n",
    "\n",
    "    fig_Ins_Count = px.bar(trans_amt_count_year_groupBy,x=\"State\",y=\"Transaction_Count\",title= f\"{year} TRANSACTION COUNT\",width=600,height=650,color_discrete_sequence=px.colors.sequential.Bluered_r)\n",
    "    fig_Ins_Count.show()\n",
    "    st.plotly_chart(fig_Ins_Count)\n",
    "\n",
    "    url=\"https://gist.githubusercontent.com/jbrobst/56c13bbbf9d97d187fea01ca62ea5112/raw/e388c4cae20aa53cb5090210a42ebb9b765c0a36/india_states.geojson\"\n",
    "    response = requests.get(url)\n",
    "    data1 = json.loads(response.content)\n",
    "    st_nms =[feature[\"properties\"][\"ST_NM\"] for feature in data1[\"features\"]]\n",
    "    st_nms.sort()\n",
    "\n",
    "    fig_india_1=px.choropleth(trans_amt_count_year_groupBy, geojson= data1, locations= \"State\", featureidkey= \"properties.ST_NM\",\n",
    "                              color= \"Transaction_Amount\", color_continuous_scale= \"Sunsetdark\",\n",
    "                              range_color= (trans_amt_count_year_groupBy[\"Transaction_Amount\"].min(),trans_amt_count_year_groupBy[\"Transaction_Amount\"].max()),\n",
    "                              hover_name= \"State\",title = f\"{year} TRANSACTION AMOUNT\",\n",
    "                              fitbounds= \"locations\",width =600, height= 600)\n",
    "    fig_india_1.update_geos(visible =False)                          \n",
    "    fig_india_1.show()\n",
    "\n",
    "    fig_india_2=px.choropleth(trans_amt_count_year_groupBy, geojson= data1, locations= \"State\", featureidkey= \"properties.ST_NM\",\n",
    "                              color= \"Transaction_Count\", color_continuous_scale= \"Sunsetdark\",\n",
    "                              range_color= (trans_amt_count_year_groupBy[\"Transaction_Count\"].min(),trans_amt_count_year_groupBy[\"Transaction_Count\"].max()),\n",
    "                              hover_name= \"State\",title = f\"{year} TRANSACTION COUNT\",\n",
    "                              fitbounds= \"locations\",width =600, height= 600)\n",
    "    fig_india_2.update_geos(visible =False)                          \n",
    "    fig_india_2.show()\n",
    "\n",
    "    return trans_amt_count_year"
   ]
  },
  {
   "cell_type": "code",
   "execution_count": null,
   "metadata": {},
   "outputs": [],
   "source": [
    "#Transaction_Quarter_Based\n",
    "def Transaction_Amount_Count_Quarter(df,quarter):\n",
    "    trans_amt_count_Qtr = df[df['Quarter'] == quarter]\n",
    "    trans_amt_count_Qtr.reset_index(drop= True,inplace= True)\n",
    "\n",
    "    trans_amt_count_Qtr_groupBy = trans_amt_count_Qtr.groupby(\"State\")[[\"Transaction_Count\",\"Transaction_Amount\"]].sum()\n",
    "    trans_amt_count_Qtr_groupBy.reset_index(inplace= True)\n",
    "\n",
    "    fig_Ins_Amt = px.bar(trans_amt_count_Qtr_groupBy,x=\"State\",y=\"Transaction_Amount\",title= f\"{trans_amt_count_Qtr['Year'].min()} Year {quarter} QUARTER TRANSACTION AMOUNT\",width=600,height=650,color_discrete_sequence=px.colors.sequential.Burg_r)\n",
    "    fig_Ins_Amt.show()\n",
    "    #st.plotly_chart(fig_Ins_Amt)\n",
    "\n",
    "    fig_Ins_Count = px.bar(trans_amt_count_Qtr_groupBy,x=\"State\",y=\"Transaction_Count\",title= f\"{trans_amt_count_Qtr['Year'].min()} Year {quarter} QUARTER TRANSACTION COUNT\",width=600,height=650,color_discrete_sequence=px.colors.sequential.Cividis_r)\n",
    "    fig_Ins_Count.show()\n",
    "    #st.plotly_chart(fig_Ins_Count)\n",
    "\n",
    "    url=\"https://gist.githubusercontent.com/jbrobst/56c13bbbf9d97d187fea01ca62ea5112/raw/e388c4cae20aa53cb5090210a42ebb9b765c0a36/india_states.geojson\"\n",
    "    response = requests.get(url)\n",
    "    data1 = json.loads(response.content)\n",
    "    st_nms =[feature[\"properties\"][\"ST_NM\"] for feature in data1[\"features\"]]\n",
    "    st_nms.sort()\n",
    "\n",
    "    fig_india_1=px.choropleth(trans_amt_count_Qtr_groupBy, geojson= data1, locations= \"State\", featureidkey= \"properties.ST_NM\",\n",
    "                              color= \"Transaction_Amount\", color_continuous_scale= \"Rainbow\",\n",
    "                              range_color= (trans_amt_count_Qtr_groupBy[\"Transaction_Amount\"].min(),trans_amt_count_Qtr_groupBy[\"Transaction_Amount\"].max()),\n",
    "                              hover_name= \"State\",title = f\"{trans_amt_count_Qtr['Year'].min()} Year {quarter} QUARTER TRANSACTION AMOUNT\",\n",
    "                              fitbounds= \"locations\",width =600, height= 600)\n",
    "    fig_india_1.update_geos(visible =False)                          \n",
    "    fig_india_1.show()\n",
    "\n",
    "    fig_india_2=px.choropleth(trans_amt_count_Qtr_groupBy, geojson= data1, locations= \"State\", featureidkey= \"properties.ST_NM\",\n",
    "                              color= \"Transaction_Count\", color_continuous_scale= \"Rainbow\",\n",
    "                              range_color= (trans_amt_count_Qtr_groupBy[\"Transaction_Count\"].min(),trans_amt_count_Qtr_groupBy[\"Transaction_Count\"].max()),\n",
    "                              hover_name= \"State\",title = f\"{trans_amt_count_Qtr['Year'].min()} Year {quarter} QUARTER TRANSACTION COUNT\",\n",
    "                              fitbounds= \"locations\",width =600, height= 600)\n",
    "    fig_india_2.update_geos(visible =False)                          \n",
    "    fig_india_2.show()\n",
    "\n",
    "    return trans_amt_count_Qtr"
   ]
  },
  {
   "cell_type": "code",
   "execution_count": null,
   "metadata": {},
   "outputs": [],
   "source": [
    "#Aggregated_Transaction\n",
    "#based on Transaction Type\n",
    "def Aggregated_Transaction_Type(df,state):\n",
    "    aggr_States_List = df[df[\"State\"] == state]\n",
    "    aggr_States_List.reset_index(drop = True,inplace = True)\n",
    "\n",
    "    Aggr_Trans_Type_GrpBy=aggr_States_List.groupby(\"Transaction_Type\")[[\"Transaction_Count\",\"Transaction_Amount\"]].sum()\n",
    "    Aggr_Trans_Type_GrpBy.reset_index(inplace = True)\n",
    "\n",
    "    col1,col2= st.columns(2)\n",
    "    with col1:\n",
    "\n",
    "        fig_Aggr_Trans_States_TC=px.bar(Aggr_Trans_Type_GrpBy,x=\"Transaction_Count\",y=\"Transaction_Type\",orientation =\"h\",color_discrete_sequence=px.colors.sequential.Aggrnyl,width = 600,title= f\"{state.upper()} TRANSACTION TYPES AND TRANSACTION COUNT\",height= 500)\n",
    "        fig_Aggr_Trans_States_TC.show()\n",
    "\n",
    "    with col2:\n",
    "        fig_Aggr_Trans_States_TA=px.bar(Aggr_Trans_Type_GrpBy,x=\"Transaction_Amount\",y=\"Transaction_Type\",orientation =\"h\",color_discrete_sequence=px.colors.sequential.Aggrnyl,width = 600,title= f\"{state.upper()} TRANSACTION TYPES AND TRANSACTION COUNT\",height= 500)\n",
    "        fig_Aggr_Trans_States_TA.show()"
   ]
  },
  {
   "cell_type": "markdown",
   "metadata": {},
   "source": [
    "### Aggregated Insurance"
   ]
  },
  {
   "cell_type": "code",
   "execution_count": null,
   "metadata": {},
   "outputs": [],
   "source": [
    "tac_Year=Transition_Amount_Count_Year(Aggre_Insurance,2023)"
   ]
  },
  {
   "cell_type": "code",
   "execution_count": null,
   "metadata": {},
   "outputs": [],
   "source": [
    "Transaction_Amount_Count_Quarter(tac_Year,3)"
   ]
  },
  {
   "cell_type": "markdown",
   "metadata": {},
   "source": [
    "### Aggregated Transaction "
   ]
  },
  {
   "cell_type": "code",
   "execution_count": null,
   "metadata": {},
   "outputs": [],
   "source": [
    "tact=Transition_Amount_Count_Year(Aggre_transaction,2023)\n",
    "tact"
   ]
  },
  {
   "cell_type": "code",
   "execution_count": null,
   "metadata": {},
   "outputs": [],
   "source": [
    "tact=Aggre_transaction[Aggre_transaction['State']==\"West Bengal\"]"
   ]
  },
  {
   "cell_type": "code",
   "execution_count": null,
   "metadata": {},
   "outputs": [],
   "source": [
    "#Aggregated Transaction based on transaction Type\n",
    "tacg = tact.groupby(\"Transaction_Type\")[[\"Transaction_Count\",\"Transaction_Amount\"]].sum()\n",
    "tacg.reset_index(inplace= True)\n",
    "tacg"
   ]
  },
  {
   "cell_type": "code",
   "execution_count": null,
   "metadata": {},
   "outputs": [],
   "source": [
    "#Aggregated Transaction Pie Chart for transactiontype DF\n",
    "fig_Aggr_Trans_States_TC = px.pie(data_frame=tacg,names=\"Transaction_Type\",values=\"Transaction_Amount\",color_discrete_sequence=px.colors.sequential.Rainbow,hole=0.25,width = 600,title=\"TRANSACTION AMOUNT\")\n",
    "fig_Aggr_Trans_States_TC.show()\n",
    "\n",
    "fig_Aggr_Trans_States_TC = px.pie(data_frame=tacg,names=\"Transaction_Type\",values=\"Transaction_Count\",color_discrete_sequence=px.colors.sequential.Rainbow,hole=0.25,width = 600,title=\"TRANSACTION COUNT\")\n",
    "fig_Aggr_Trans_States_TC.show()"
   ]
  },
  {
   "cell_type": "markdown",
   "metadata": {},
   "source": [
    "### Aggregated_Transaction DF"
   ]
  },
  {
   "cell_type": "code",
   "execution_count": null,
   "metadata": {},
   "outputs": [],
   "source": [
    "Aggre_transaction"
   ]
  },
  {
   "cell_type": "code",
   "execution_count": null,
   "metadata": {},
   "outputs": [],
   "source": [
    "a = Aggre_transaction[Aggre_transaction[\"State\"] == \"Tamil Nadu\"]\n",
    "a"
   ]
  },
  {
   "cell_type": "code",
   "execution_count": null,
   "metadata": {},
   "outputs": [],
   "source": [
    "#Aggregated_Transaction GroupBy\n",
    "Aggr_Trans_Type_GrpBy=a.groupby(\"Transaction_Type\")[[\"Transaction_Count\",\"Transaction_Amount\"]].sum()\n",
    "Aggr_Trans_Type_GrpBy"
   ]
  },
  {
   "cell_type": "markdown",
   "metadata": {},
   "source": [
    "#Aggregated User"
   ]
  },
  {
   "cell_type": "markdown",
   "metadata": {},
   "source": [
    "### Aggregated User for Years"
   ]
  },
  {
   "cell_type": "code",
   "execution_count": null,
   "metadata": {},
   "outputs": [],
   "source": [
    "aggr_user_year=Aggre_user[Aggre_user['Year'] == 2022]\n",
    "aggr_user_year.reset_index(drop=True)"
   ]
  },
  {
   "cell_type": "code",
   "execution_count": null,
   "metadata": {},
   "outputs": [],
   "source": [
    "aggr_user_year=Aggre_user[Aggre_user['Year'] == 2022]\n",
    "aggr_user_year.reset_index(drop=True,inplace=True)"
   ]
  },
  {
   "cell_type": "code",
   "execution_count": null,
   "metadata": {},
   "outputs": [],
   "source": [
    "aggr_user_year"
   ]
  },
  {
   "cell_type": "code",
   "execution_count": null,
   "metadata": {},
   "outputs": [],
   "source": [
    "aggr_user_year_brand_grpBY=aggr_user_year.groupby(\"Brands\")[\"Transaction_Count\"].sum()\n",
    "aggr_user_year_brand_grpBY.reset_index(drop= True)"
   ]
  },
  {
   "cell_type": "code",
   "execution_count": null,
   "metadata": {},
   "outputs": [],
   "source": [
    "aggr_user_year_brand_grpBY=aggr_user_year.groupby(\"Brands\")[\"Transaction_Count\"].sum()\n",
    "aggr_user_year_brand_grpBY.reset_index(drop= True,inplace= True)"
   ]
  },
  {
   "cell_type": "code",
   "execution_count": null,
   "metadata": {},
   "outputs": [],
   "source": [
    "aggr_user_year_brand_grpBY"
   ]
  },
  {
   "cell_type": "code",
   "execution_count": null,
   "metadata": {},
   "outputs": [],
   "source": [
    "aggr_user_year_brand_grpBY=pd.DataFrame(aggr_user_year.groupby(\"Brands\")[\"Transaction_Count\"].sum())\n",
    "aggr_user_year_brand_grpBY.reset_index(inplace = True)"
   ]
  },
  {
   "cell_type": "code",
   "execution_count": null,
   "metadata": {},
   "outputs": [],
   "source": [
    "aggr_user_year_brand_grpBY"
   ]
  },
  {
   "cell_type": "code",
   "execution_count": null,
   "metadata": {},
   "outputs": [],
   "source": [
    "aggr_user_year_brand_grpBY.get(\"Transaction_Count\")"
   ]
  },
  {
   "cell_type": "code",
   "execution_count": null,
   "metadata": {},
   "outputs": [],
   "source": [
    "aggr_user_year_brand_grpBY"
   ]
  },
  {
   "cell_type": "code",
   "execution_count": null,
   "metadata": {},
   "outputs": [],
   "source": [
    "aggr_user_year_brand_grpBY.reset_index(drop=True,inplace=True)"
   ]
  },
  {
   "cell_type": "code",
   "execution_count": null,
   "metadata": {},
   "outputs": [],
   "source": [
    "fig_aggr_user_brands=px.bar(aggr_user_year_brand_grpBY, x=\"Brands\", y= \"Transaction_Count\", title=\"BRANDS AND TRANSACTION COUNT\",\n",
    "                            width=800,color_discrete_sequence=px.colors.sequential.haline_r)\n",
    "fig_aggr_user_brands.show()                           "
   ]
  },
  {
   "cell_type": "code",
   "execution_count": null,
   "metadata": {},
   "outputs": [],
   "source": [
    "def Aggr_User_Year_Plot(df,year):\n",
    "    aggr_user_year=df[df['Year'] == year]\n",
    "    aggr_user_year.reset_index(drop=True,inplace=True)       \n",
    "\n",
    "    aggr_user_year_brand_grpBY=pd.DataFrame(aggr_user_year.groupby(\"Brands\")[\"Transaction_Count\"].sum())\n",
    "    aggr_user_year_brand_grpBY.reset_index(inplace = True)  \n",
    "\n",
    "    fig_aggr_user_brands=px.bar(aggr_user_year_brand_grpBY, x=\"Brands\", y= \"Transaction_Count\", title=f\"{year} BRANDS AND TRANSACTION COUNT\",\n",
    "                            width=800,color_discrete_sequence=px.colors.sequential.haline_r)\n",
    "    fig_aggr_user_brands.show()"
   ]
  },
  {
   "cell_type": "code",
   "execution_count": null,
   "metadata": {},
   "outputs": [],
   "source": [
    "Aggr_User_Year_Plot(Aggre_user,2022)"
   ]
  },
  {
   "cell_type": "code",
   "execution_count": null,
   "metadata": {},
   "outputs": [],
   "source": [
    "Aggre_user"
   ]
  },
  {
   "cell_type": "code",
   "execution_count": null,
   "metadata": {},
   "outputs": [],
   "source": [
    "aggr_User_Yr_List=Aggre_user['Year'].unique()\n",
    "aggr_User_Yr_List"
   ]
  },
  {
   "cell_type": "markdown",
   "metadata": {},
   "source": [
    "### Aggregated User for Quarter"
   ]
  },
  {
   "cell_type": "code",
   "execution_count": null,
   "metadata": {},
   "outputs": [],
   "source": [
    "Aggre_user[Aggre_user['Quarter'] == 1]"
   ]
  },
  {
   "cell_type": "code",
   "execution_count": null,
   "metadata": {},
   "outputs": [],
   "source": [
    "aggr_user_year=Aggre_user[Aggre_user['Quarter'] == 1]\n",
    "aggr_user_year.reset_index(drop=True)"
   ]
  },
  {
   "cell_type": "code",
   "execution_count": null,
   "metadata": {},
   "outputs": [],
   "source": [
    "fig_pie_1= px.pie(data_frame=aggr_user_year, names= \"Brands\", values=\"Transaction_Count\", hover_data= \"Percentage\",\n",
    "                  width=1000,title=\"QUARTER TRANSACTION COUNT PERCENTAGE\",hole=0.5, color_discrete_sequence= px.colors.sequential.Magenta_r)\n",
    "fig_pie_1.show()"
   ]
  },
  {
   "cell_type": "code",
   "execution_count": null,
   "metadata": {},
   "outputs": [],
   "source": [
    "aggr_user_year[aggr_user_year['Quarter'] == 1]"
   ]
  },
  {
   "cell_type": "code",
   "execution_count": null,
   "metadata": {},
   "outputs": [],
   "source": [
    "aggr_user_year_Quarters=aggr_user_year[aggr_user_year['Quarter'] == 1]\n",
    "aggr_user_year_Quarters"
   ]
  },
  {
   "cell_type": "code",
   "execution_count": null,
   "metadata": {},
   "outputs": [],
   "source": [
    "aggr_user_year_Quarters=aggr_user_year[aggr_user_year['Quarter'] == 1]\n",
    "aggr_user_year_Quarters.reset_index(drop=True)"
   ]
  },
  {
   "cell_type": "code",
   "execution_count": null,
   "metadata": {},
   "outputs": [],
   "source": [
    "aggr_user_year_Quarters=aggr_user_year[aggr_user_year['Quarter'] == 1]\n",
    "aggr_user_year_Quarters.reset_index(drop=True,inplace = True)"
   ]
  },
  {
   "cell_type": "code",
   "execution_count": null,
   "metadata": {},
   "outputs": [],
   "source": [
    "fig_pie_1= px.bar(data_frame=aggr_user_year_Quarters, x= \"Brands\", y=\"Transaction_Count\", hover_data= \"Percentage\",\n",
    "                      width=1000,title=\" QUARTER TRANSACTION COUNT PERCENTAGE\", color_discrete_sequence= px.colors.sequential.Magenta_r)\n",
    "fig_pie_1.show()                      "
   ]
  },
  {
   "cell_type": "markdown",
   "metadata": {},
   "source": [
    "### Aggregated User for States"
   ]
  },
  {
   "cell_type": "code",
   "execution_count": null,
   "metadata": {},
   "outputs": [],
   "source": [
    "Aggre_user[Aggre_user['States'] == \"West Bengal\"]"
   ]
  },
  {
   "cell_type": "code",
   "execution_count": null,
   "metadata": {},
   "outputs": [],
   "source": [
    "aggr_user_States=Aggre_user[Aggre_user['States'] == \"West Bengal\"]\n",
    "aggr_user_States"
   ]
  },
  {
   "cell_type": "code",
   "execution_count": null,
   "metadata": {},
   "outputs": [],
   "source": [
    "aggr_user_States=Aggre_user[Aggre_user['States'] == \"West Bengal\"]\n",
    "aggr_user_States.reset_index(drop=True)"
   ]
  },
  {
   "cell_type": "code",
   "execution_count": null,
   "metadata": {},
   "outputs": [],
   "source": [
    "aggr_user_States=Aggre_user[Aggre_user['States'] == \"West Bengal\"]\n",
    "aggr_user_States.reset_index(drop=True,inplace=True)"
   ]
  },
  {
   "cell_type": "code",
   "execution_count": null,
   "metadata": {},
   "outputs": [],
   "source": [
    "aggr_user_States.groupby(\"Brands\")[\"Transaction_Count\"].sum()"
   ]
  },
  {
   "cell_type": "code",
   "execution_count": null,
   "metadata": {},
   "outputs": [],
   "source": [
    "aggr_User_States_GrpBy=pd.DataFrame(aggr_user_States.groupby(\"Brands\")[\"Transaction_Count\"].sum())\n",
    "aggr_User_States_GrpBy"
   ]
  },
  {
   "cell_type": "code",
   "execution_count": null,
   "metadata": {},
   "outputs": [],
   "source": [
    "aggr_User_States_GrpBy=pd.DataFrame(aggr_user_States.groupby(\"Brands\")[\"Transaction_Count\"].sum())\n",
    "aggr_User_States_GrpBy.reset_index(inplace=True)"
   ]
  },
  {
   "cell_type": "code",
   "execution_count": null,
   "metadata": {},
   "outputs": [],
   "source": [
    "aggr_User_States_GrpBy"
   ]
  },
  {
   "cell_type": "code",
   "execution_count": null,
   "metadata": {},
   "outputs": [],
   "source": [
    "fig_scatter_1= px.line(aggr_User_States_GrpBy, x= \"Brands\", y= \"Transaction_Count\", markers= True, width=1000)\n",
    "fig_scatter_1.show()"
   ]
  },
  {
   "cell_type": "code",
   "execution_count": null,
   "metadata": {},
   "outputs": [],
   "source": [
    "Aggre_user"
   ]
  },
  {
   "cell_type": "markdown",
   "metadata": {},
   "source": [
    "### MAP INSURANCE"
   ]
  },
  {
   "cell_type": "code",
   "execution_count": null,
   "metadata": {},
   "outputs": [],
   "source": [
    "map_Ins_State_List=map_Insurance[map_Insurance['State'] == \"Tamil Nadu\"]\n",
    "map_Ins_State_List"
   ]
  },
  {
   "cell_type": "code",
   "execution_count": null,
   "metadata": {},
   "outputs": [],
   "source": [
    "def map_insurance_plot_state(df,state):\n",
    "    map_Ins_State_List=df[df['State'] == state]\n",
    "    map_Ins_State_List.reset_index(drop=True,inplace =True)\n",
    "\n",
    "    map_Ins_State_List_gpby=map_Ins_State_List.groupby(\"District\")[[\"Transaction_Count\",\"Transaction_Amount\"]].sum()\n",
    "    map_Ins_State_List_gpby.reset_index(inplace=True)\n",
    "\n",
    "    col1,col2=st.columns(2)\n",
    "    with col1:\n",
    "        \n",
    "        fig_map_ins_state_bar=px.bar(map_Ins_State_List_gpby, x= \"Transaction_Amount\", y=\"District\",orientation = \"h\",height = 550,\n",
    "                                     width=600,title=f\"{state.upper()} DISTRICTS AND TRANSACTION AMOUNT\", color_discrete_sequence= px.colors.sequential.Mint_r)\n",
    "        #st.plotly_chart(fig_map_ins_state_bar)\n",
    "        fig_map_ins_state_bar.show()\n",
    "    with col2:\n",
    "\n",
    "        fig_map_ins_state_bar=px.bar(data_frame=map_Ins_State_List_gpby, x= \"Transaction_Count\", y=\"District\",orientation = \"h\",height = 550,\n",
    "                                     width=550,title=f\"{state.upper()} DISTRICTS AND TRANSACTION COUNT\", color_discrete_sequence= px.colors.sequential.Aggrnyl_r)\n",
    "        #st.plotly_chart(fig_map_ins_state_bar)  \n",
    "        fig_map_ins_state_bar.show()"
   ]
  },
  {
   "cell_type": "code",
   "execution_count": null,
   "metadata": {},
   "outputs": [],
   "source": [
    "df_map_insur_Y_Q=Transition_Amount_Count_Year(map_Insurance,2020)"
   ]
  },
  {
   "cell_type": "code",
   "execution_count": null,
   "metadata": {},
   "outputs": [],
   "source": [
    "map_insurance_plot_state(df_map_insur_Y_Q,\"Tamil Nadu\")"
   ]
  },
  {
   "cell_type": "code",
   "execution_count": null,
   "metadata": {},
   "outputs": [],
   "source": [
    "Transaction_Amount_Count_Quarter(df_map_insur_Y_Q,2)"
   ]
  },
  {
   "cell_type": "code",
   "execution_count": null,
   "metadata": {},
   "outputs": [],
   "source": [
    "map_Insurance"
   ]
  },
  {
   "cell_type": "markdown",
   "metadata": {},
   "source": [
    "### Map Transaction"
   ]
  },
  {
   "cell_type": "code",
   "execution_count": null,
   "metadata": {},
   "outputs": [],
   "source": [
    "df_map_Trans_Y=Transition_Amount_Count_Year(Map_transaction,2023)"
   ]
  },
  {
   "cell_type": "code",
   "execution_count": null,
   "metadata": {},
   "outputs": [],
   "source": [
    "map_insurance_plot_state(df_map_Trans_Y,\"West Bengal\")"
   ]
  },
  {
   "cell_type": "code",
   "execution_count": null,
   "metadata": {},
   "outputs": [],
   "source": [
    "map_Trans_QTR_df=Transaction_Amount_Count_Quarter(df_map_Trans_Y,3)"
   ]
  },
  {
   "cell_type": "code",
   "execution_count": null,
   "metadata": {},
   "outputs": [],
   "source": [
    "map_insurance_plot_state(map_Trans_QTR_df,\"Tamil Nadu\")"
   ]
  },
  {
   "cell_type": "code",
   "execution_count": null,
   "metadata": {},
   "outputs": [],
   "source": [
    "Map_transaction"
   ]
  },
  {
   "cell_type": "markdown",
   "metadata": {},
   "source": [
    "### Map USER"
   ]
  },
  {
   "cell_type": "code",
   "execution_count": null,
   "metadata": {},
   "outputs": [],
   "source": [
    "def map_User_Year(df,year):\n",
    "    map_user_yr=df[df[\"Year\"] == year]\n",
    "    map_user_yr.reset_index(drop=True,inplace=True)\n",
    "\n",
    "    map_user_yr_gb=map_user_yr.groupby(\"State\")[[\"RegisteredUser\",\"AppOpens\"]].sum()\n",
    "    map_user_yr_gb.reset_index(inplace=True)\n",
    "\n",
    "    fig_map_user_plot_1= px.line(map_user_yr_gb, x= \"State\", y= [\"RegisteredUser\",\"AppOpens\"], markers= True,orientation=\"v\",labels={'State': \"State\"},\n",
    "                                 width=1000,height=600,title=f\" {year} REGISTERED USERS AND APP OPENS\", color_discrete_sequence= px.colors.sequential.Viridis_r)\n",
    "\n",
    "    fig_map_user_plot_1.show()\n",
    "    return map_user_yr"
   ]
  },
  {
   "cell_type": "code",
   "execution_count": null,
   "metadata": {},
   "outputs": [],
   "source": [
    "muy=map_User_Year(Map_user,2023)"
   ]
  },
  {
   "cell_type": "code",
   "execution_count": null,
   "metadata": {},
   "outputs": [],
   "source": [
    "def map_User_Quarter(df,quarter):\n",
    "    map_user_qtr = df[df[\"Quarter\"] == quarter]\n",
    "    map_user_qtr.reset_index(drop=True,inplace=True)\n",
    "    map_user_qtr_gb=map_user_qtr.groupby(\"State\")[[\"RegisteredUser\",\"AppOpens\"]].sum()\n",
    "    map_user_qtr_gb.reset_index(inplace=True)\n",
    "\n",
    "    fig_map_user_plot_1= px.line(map_user_qtr_gb, x= \"State\", y= [\"RegisteredUser\",\"AppOpens\"], markers= True,\n",
    "                                    title= f\"{df['Year'].min()}, {quarter} QUARTER REGISTERED USER AND APPOPENS\",\n",
    "                                    width= 1000,height=800,color_discrete_sequence= px.colors.sequential.Rainbow_r)\n",
    "\n",
    "    fig_map_user_plot_1.show()\n",
    "\n",
    "    return map_user_qtr"
   ]
  },
  {
   "cell_type": "code",
   "execution_count": null,
   "metadata": {},
   "outputs": [],
   "source": [
    "muq=map_User_Quarter(muy,2)"
   ]
  },
  {
   "cell_type": "code",
   "execution_count": null,
   "metadata": {},
   "outputs": [],
   "source": [
    "def map_User_State(df,state):\n",
    "    map_user_state = df[df[\"State\"] == state]\n",
    "    map_user_state.reset_index(drop=True,inplace=True)\n",
    "    map_user_state_gb=map_user_state.groupby(\"District\")[[\"RegisteredUser\",\"AppOpens\"]].sum()\n",
    "    map_user_state_gb.reset_index(inplace=True)\n",
    "\n",
    "    col1,col2 = st.columns(2)\n",
    "    with col1:\n",
    "        fig_map_user_state1=px.bar(map_user_state_gb,x=\"RegisteredUser\",y=\"District\",orientation=\"h\",\n",
    "            title=\"REGISTERED USER\",height=800,\n",
    "            color_discrete_sequence=px.colors.sequential.Plasma_r)\n",
    "        fig_map_user_state1.show()\n",
    "        \n",
    "    with col2:\n",
    "        fig_map_user_state2=px.bar(map_user_state_gb,x=\"AppOpens\",y=\"District\",orientation=\"h\",\n",
    "                                title=\"APP OPENS\",height=800,\n",
    "                                color_discrete_sequence=px.colors.sequential.Oranges_r)  \n",
    "        fig_map_user_state2.show()  "
   ]
  },
  {
   "cell_type": "code",
   "execution_count": null,
   "metadata": {},
   "outputs": [],
   "source": [
    "map_User_State(muq,\"Tamil Nadu\")"
   ]
  },
  {
   "cell_type": "code",
   "execution_count": null,
   "metadata": {},
   "outputs": [],
   "source": [
    "Map_user"
   ]
  },
  {
   "cell_type": "markdown",
   "metadata": {},
   "source": [
    "### Top INsurance"
   ]
  },
  {
   "cell_type": "code",
   "execution_count": null,
   "metadata": {},
   "outputs": [],
   "source": [
    "Top_Insurance"
   ]
  },
  {
   "cell_type": "code",
   "execution_count": null,
   "metadata": {},
   "outputs": [],
   "source": [
    "top_Ins_yr = Top_Insurance[Top_Insurance['State'] == \"West Bengal\"]"
   ]
  },
  {
   "cell_type": "code",
   "execution_count": null,
   "metadata": {},
   "outputs": [],
   "source": [
    "Transition_Amount_Count_Year(top_Ins_yr,2020)"
   ]
  },
  {
   "cell_type": "code",
   "execution_count": null,
   "metadata": {},
   "outputs": [],
   "source": [
    "Top_Insurance"
   ]
  },
  {
   "cell_type": "markdown",
   "metadata": {},
   "source": [
    "### TOP USER"
   ]
  },
  {
   "cell_type": "code",
   "execution_count": null,
   "metadata": {},
   "outputs": [],
   "source": [
    "Top_transaction"
   ]
  },
  {
   "cell_type": "code",
   "execution_count": null,
   "metadata": {},
   "outputs": [],
   "source": [
    "tt=Top_transaction[Top_transaction['State'] == \"Andaman & Nicobar\"]\n",
    "tt.reset_index(drop=True,inplace=True)\n",
    "tt.groupby(['Year', 'Quarter'])[[\"Transaction_Count\",\"Transaction_Amount\"]].sum()"
   ]
  },
  {
   "cell_type": "code",
   "execution_count": null,
   "metadata": {},
   "outputs": [],
   "source": [
    "def top_user_yr(df,year):\n",
    "    top_user_year=df[df['Year'] == year]\n",
    "    top_user_year.reset_index(drop= True, inplace= True)\n",
    "    top_user_year_gby=pd.DataFrame(top_user_year.groupby([\"State\",\"Quarter\"])['RegisteredUser'].sum())\n",
    "    top_user_year_gby.reset_index(inplace= True)\n",
    "    fig_top_user_yr_plot= px.bar(top_user_year_gby, x= \"State\", y= \"RegisteredUser\", barmode= \"group\", color= \"Quarter\",\n",
    "                                width=1000, height= 800, color_continuous_scale= px.colors.sequential.Burgyl)\n",
    "    fig_top_user_yr_plot.show()\n",
    "    #st.plotly_chart(fig_top_user_y\n",
    "\n",
    "    return top_user_year"
   ]
  },
  {
   "cell_type": "code",
   "execution_count": null,
   "metadata": {},
   "outputs": [],
   "source": [
    "def top_user_state(df,state):\n",
    "    top_user_state=df[df['State'] == state ]\n",
    "    top_user_state.reset_index(drop= True, inplace= True)\n",
    "    top_user_state_gby=pd.DataFrame(top_user_state.groupby(\"Quarter\")['RegisteredUser'].sum())\n",
    "    top_user_state_gby.reset_index(inplace= True)\n",
    "    fig_top_user_state_plot= px.bar(top_user_state_gby, x= \"Quarter\", y= \"RegisteredUser\", barmode= \"group\",\n",
    "                                width=1000, height= 800, color_continuous_scale= px.colors.sequential.Magenta)\n",
    "    fig_top_user_state_plot.show()\n",
    "    #st.plotly_chart(fig_top_user_state_plot)"
   ]
  },
  {
   "cell_type": "code",
   "execution_count": null,
   "metadata": {},
   "outputs": [],
   "source": [
    "df_top_user_Y=top_user_yr(Top_user,2020)"
   ]
  },
  {
   "cell_type": "code",
   "execution_count": null,
   "metadata": {},
   "outputs": [],
   "source": [
    "df_top_user_Y_S=top_user_state(df_top_user_Y,\"Tamil Nadu\")"
   ]
  },
  {
   "cell_type": "code",
   "execution_count": null,
   "metadata": {},
   "outputs": [],
   "source": [
    "Top_user"
   ]
  },
  {
   "cell_type": "code",
   "execution_count": null,
   "metadata": {},
   "outputs": [],
   "source": [
    "tta=Top_user[Top_user['Year'] == 2018]\n",
    "tta.reset_index(drop=True,inplace=True)"
   ]
  },
  {
   "cell_type": "code",
   "execution_count": null,
   "metadata": {},
   "outputs": [],
   "source": [
    "state = \"Tamil Nadu\"\n",
    "filtered_data = tta[tta[\"State\"] == state]\n",
    "result=filtered_data.groupby([\"Quarter\",\"State\"])[[\"RegisteredUser\"]].sum()\n",
    "result"
   ]
  },
  {
   "cell_type": "code",
   "execution_count": null,
   "metadata": {},
   "outputs": [],
   "source": [
    "tt=Top_user[Top_user['State'] == \"Tamil Nadu\"]\n",
    "tt.reset_index(drop=True,inplace=True)\n",
    "tt.groupby(\"Quarter\")[[\"RegisteredUser\"]].sum()"
   ]
  },
  {
   "cell_type": "markdown",
   "metadata": {},
   "source": [
    "### QUestions"
   ]
  },
  {
   "cell_type": "code",
   "execution_count": null,
   "metadata": {},
   "outputs": [],
   "source": [
    "Aggre_user"
   ]
  },
  {
   "cell_type": "code",
   "execution_count": null,
   "metadata": {},
   "outputs": [],
   "source": [
    "brand= Aggre_user[[\"Brands\",\"Transaction_Count\"]]\n",
    "brand1= brand.groupby(\"Brands\")[\"Transaction_Count\"].sum().sort_values(ascending=False)\n",
    "brand2= pd.DataFrame(brand1).reset_index()\n",
    "brand2"
   ]
  },
  {
   "cell_type": "code",
   "execution_count": 205,
   "metadata": {},
   "outputs": [],
   "source": [
    "def ques1():\n",
    "    brand= Aggre_user[[\"Brands\",\"Transaction_Count\"]]\n",
    "    brand1= brand.groupby(\"Brands\")[\"Transaction_Count\"].sum().sort_values(ascending=False)\n",
    "    brand2= pd.DataFrame(brand1).reset_index()\n",
    "\n",
    "    fig_brands= px.pie(brand2, values= \"Transaction_Count\", names= \"Brands\", color_discrete_sequence=px.colors.sequential.dense_r,\n",
    "                        title= \"Top Mobile Brands of Transaction_count\")\n",
    "    fig_brands.show()\n",
    "\n",
    "    return st.plotly_chart(fig_brands)"
   ]
  },
  {
   "cell_type": "code",
   "execution_count": null,
   "metadata": {},
   "outputs": [],
   "source": [
    "ques1()"
   ]
  },
  {
   "cell_type": "code",
   "execution_count": null,
   "metadata": {},
   "outputs": [],
   "source": [
    "Aggre_transaction"
   ]
  },
  {
   "cell_type": "code",
   "execution_count": 203,
   "metadata": {},
   "outputs": [],
   "source": [
    "def ques2():\n",
    "    lt= Aggre_transaction[[\"State\", \"Transaction_Amount\"]]\n",
    "    lt1= lt.groupby(\"State\")[\"Transaction_Amount\"].sum().sort_values(ascending= True)\n",
    "    lt2= pd.DataFrame(lt1).reset_index().head(10)\n",
    "\n",
    "    fig_lts= px.bar(lt2, x= \"State\", y= \"Transaction_Amount\",title= \"Top 10 Lowest Transaction Amount and States\",\n",
    "                    color_discrete_sequence= px.colors.sequential.Oranges_r)\n",
    "    fig_lts.show()\n",
    "    return st.plotly_chart(fig_lts)"
   ]
  },
  {
   "cell_type": "code",
   "execution_count": null,
   "metadata": {},
   "outputs": [],
   "source": [
    "ques2()"
   ]
  },
  {
   "cell_type": "code",
   "execution_count": 202,
   "metadata": {},
   "outputs": [],
   "source": [
    "def ques3():\n",
    "    htd= Map_transaction[[\"District\", \"Transaction_Amount\",\"State\"]]\n",
    "    htd1= htd.groupby([\"District\",\"State\"])[\"Transaction_Amount\"].sum().sort_values(ascending=False)\n",
    "    htd2= pd.DataFrame(htd1).head(10).reset_index()\n",
    "\n",
    "    fig_htd= px.pie(htd2, values= \"Transaction_Amount\", names= \"District\", title=\"Top 10 Districts Of Highest Transaction Amount\",\n",
    "                    color_discrete_sequence=px.colors.sequential.Emrld_r,hover_name=\"State\")\n",
    "    fig_htd.show()\n",
    "    return st.plotly_chart(fig_htd)"
   ]
  },
  {
   "cell_type": "code",
   "execution_count": null,
   "metadata": {},
   "outputs": [],
   "source": [
    "ques3()"
   ]
  },
  {
   "cell_type": "code",
   "execution_count": null,
   "metadata": {},
   "outputs": [],
   "source": [
    "Map_transaction"
   ]
  },
  {
   "cell_type": "code",
   "execution_count": 200,
   "metadata": {},
   "outputs": [],
   "source": [
    "def ques4():\n",
    "    htd= Map_transaction[[\"District\", \"Transaction_Amount\",\"State\"]]\n",
    "    htd1= htd.groupby([\"District\",\"State\"])[\"Transaction_Amount\"].sum().sort_values(ascending=True)\n",
    "    htd2= pd.DataFrame(htd1).head(10).reset_index()\n",
    "\n",
    "    fig_htd= px.pie(htd2, values= \"Transaction_Amount\", names= \"District\", title=\"Top 10 Districts of Lowest Transaction Amount\",\n",
    "                    color_discrete_sequence=px.colors.sequential.Greens_r,hover_name=\"State\")\n",
    "    fig_htd.show()\n",
    "    return st.plotly_chart(fig_htd)"
   ]
  },
  {
   "cell_type": "code",
   "execution_count": null,
   "metadata": {},
   "outputs": [],
   "source": [
    "ques4()"
   ]
  },
  {
   "cell_type": "code",
   "execution_count": 175,
   "metadata": {},
   "outputs": [],
   "source": [
    "def ques5():\n",
    "    sa= Map_user[[\"State\", \"AppOpens\"]]\n",
    "    sa1= sa.groupby(\"State\")[\"AppOpens\"].sum().sort_values(ascending=False)\n",
    "    sa2= pd.DataFrame(sa1).reset_index().head(10)\n",
    "\n",
    "    fig_sa= px.bar(sa2, x= \"State\", y= \"AppOpens\", title=\"Top 10 Highest States With AppOpens\",\n",
    "                color_discrete_sequence= px.colors.sequential.deep_r)\n",
    "    fig_sa.show()\n",
    "    return st.plotly_chart(fig_sa)"
   ]
  },
  {
   "cell_type": "code",
   "execution_count": null,
   "metadata": {},
   "outputs": [],
   "source": [
    "ques5()"
   ]
  },
  {
   "cell_type": "code",
   "execution_count": null,
   "metadata": {},
   "outputs": [],
   "source": [
    "Map_user"
   ]
  },
  {
   "cell_type": "code",
   "execution_count": 177,
   "metadata": {},
   "outputs": [],
   "source": [
    "def ques6():\n",
    "    sa= Map_user[[\"State\", \"AppOpens\"]]\n",
    "    sa1= sa.groupby(\"State\")[\"AppOpens\"].sum().sort_values(ascending=True)\n",
    "    sa2= pd.DataFrame(sa1).reset_index().head(10)\n",
    "\n",
    "    fig_sa= px.bar(sa2, x= \"State\", y= \"AppOpens\", title=\"Top 10 Lowest States With AppOpens\",\n",
    "                color_discrete_sequence= px.colors.sequential.dense_r)\n",
    "    fig_sa.show()\n",
    "    return st.plotly_chart(fig_sa)"
   ]
  },
  {
   "cell_type": "code",
   "execution_count": null,
   "metadata": {},
   "outputs": [],
   "source": [
    "ques6()"
   ]
  },
  {
   "cell_type": "code",
   "execution_count": 198,
   "metadata": {},
   "outputs": [],
   "source": [
    "def ques7():\n",
    "    stc= Aggre_transaction[[\"State\", \"Transaction_Count\"]]\n",
    "    stc1= stc.groupby(\"State\")[\"Transaction_Count\"].sum().sort_values(ascending=True)\n",
    "    stc2= pd.DataFrame(stc1).head(10).reset_index()\n",
    "\n",
    "    fig_stc= px.bar(stc2, x= \"State\", y= \"Transaction_Count\",title= \"Top 10 States with Lowest Transaction Count\",\n",
    "                    color_discrete_sequence= px.colors.sequential.Jet_r)\n",
    "    fig_stc.show()\n",
    "    return st.plotly_chart(fig_stc)"
   ]
  },
  {
   "cell_type": "code",
   "execution_count": null,
   "metadata": {},
   "outputs": [],
   "source": [
    "ques7()"
   ]
  },
  {
   "cell_type": "code",
   "execution_count": 208,
   "metadata": {},
   "outputs": [],
   "source": [
    "def ques8():\n",
    "    stc= Aggre_transaction[[\"State\", \"Transaction_Count\"]]\n",
    "    stc1= stc.groupby(\"State\")[\"Transaction_Count\"].sum().sort_values(ascending=False)\n",
    "    stc2= pd.DataFrame(stc1).reset_index()\n",
    "\n",
    "    fig_stc= px.bar(stc2, x= \"State\", y= \"Transaction_Count\", title= \"STATES WITH HIGHEST TRANSACTION COUNT\",\n",
    "                    color_discrete_sequence= px.colors.sequential.Magenta_r)\n",
    "    fig_stc.show()\n",
    "    return st.plotly_chart(fig_stc)"
   ]
  },
  {
   "cell_type": "code",
   "execution_count": null,
   "metadata": {},
   "outputs": [],
   "source": [
    "ques8()"
   ]
  },
  {
   "cell_type": "code",
   "execution_count": 211,
   "metadata": {},
   "outputs": [],
   "source": [
    "def ques9():\n",
    "    ht= Aggre_transaction[[\"State\", \"Transaction_Amount\"]]\n",
    "    ht1= ht.groupby(\"State\")[\"Transaction_Amount\"].sum().sort_values(ascending= False)\n",
    "    ht2= pd.DataFrame(ht1).reset_index().head(10)\n",
    "\n",
    "    fig_lts= px.bar(ht2, x= \"State\", y= \"Transaction_Amount\",title= \"Highest 10 States With Transaction Amount\",\n",
    "                    color_discrete_sequence= px.colors.sequential.Oranges_r)\n",
    "    fig_lts.show()\n",
    "    return st.plotly_chart(fig_lts)"
   ]
  },
  {
   "cell_type": "code",
   "execution_count": null,
   "metadata": {},
   "outputs": [],
   "source": [
    "ques9()"
   ]
  },
  {
   "cell_type": "code",
   "execution_count": null,
   "metadata": {},
   "outputs": [],
   "source": [
    "Aggre_transaction"
   ]
  },
  {
   "cell_type": "code",
   "execution_count": 218,
   "metadata": {},
   "outputs": [],
   "source": [
    "def ques10():\n",
    "    dt= Map_transaction[[\"District\", \"Transaction_Amount\",\"State\"]]\n",
    "    dt1= dt.groupby([\"District\",\"State\"])[\"Transaction_Amount\"].sum().sort_values(ascending=True)\n",
    "    dt2= pd.DataFrame(dt1).reset_index().head(50)\n",
    "\n",
    "    fig_dt= px.bar(dt2, x= \"District\", y= \"Transaction_Amount\", title= \"Top 50 Districts With Lowest Transaction Amount\",\n",
    "                color_discrete_sequence= px.colors.sequential.Mint_r,hover_name=\"State\")\n",
    "    fig_dt.show()\n",
    "    return st.plotly_chart(fig_dt)"
   ]
  },
  {
   "cell_type": "code",
   "execution_count": null,
   "metadata": {},
   "outputs": [],
   "source": [
    "ques10()"
   ]
  },
  {
   "cell_type": "code",
   "execution_count": null,
   "metadata": {},
   "outputs": [],
   "source": [
    "Map_transaction"
   ]
  }
 ],
 "metadata": {
  "kernelspec": {
   "display_name": "Python 3",
   "language": "python",
   "name": "python3"
  },
  "language_info": {
   "codemirror_mode": {
    "name": "ipython",
    "version": 3
   },
   "file_extension": ".py",
   "mimetype": "text/x-python",
   "name": "python",
   "nbconvert_exporter": "python",
   "pygments_lexer": "ipython3",
   "version": "3.12.1"
  }
 },
 "nbformat": 4,
 "nbformat_minor": 2
}
